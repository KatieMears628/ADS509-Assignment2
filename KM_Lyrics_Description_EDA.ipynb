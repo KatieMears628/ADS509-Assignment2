{
  "cells": [
    {
      "cell_type": "markdown",
      "source": [
        "## Katie Mears"
      ],
      "metadata": {
        "id": "YwbTTLE0HtZ-"
      },
      "id": "YwbTTLE0HtZ-"
    },
    {
      "cell_type": "markdown",
      "id": "7f79baf9",
      "metadata": {
        "id": "7f79baf9"
      },
      "source": [
        "# ADS 509 Assignment 2.1: Tokenization, Normalization, Descriptive Statistics\n",
        "\n",
        "This notebook holds Assignment 2.1 for Module 2 in ADS 509, Applied Text Mining. Work through this notebook, writing code and answering questions where required.\n",
        "\n",
        "In the previous assignment you pulled lyrics data on two artists. In this assignment we explore this data set and a pull from the now-defunct Twitter API for the artists Cher and Robyn.  If, for some reason, you did not complete that previous assignment, data to use for this assignment can be found in the assignment materials section of Canvas.\n",
        "\n",
        "This assignment asks you to write a short function to calculate some descriptive statistics on a piece of text. Then you are asked to find some interesting and unique statistics on your corpora.\n"
      ]
    },
    {
      "cell_type": "markdown",
      "id": "aae8e2e1",
      "metadata": {
        "id": "aae8e2e1"
      },
      "source": [
        "## General Assignment Instructions\n",
        "\n",
        "These instructions are included in every assignment, to remind you of the coding standards for the class. Feel free to delete this cell after reading it.\n",
        "\n",
        "One sign of mature code is conforming to a style guide. We recommend the [Google Python Style Guide](https://google.github.io/styleguide/pyguide.html). If you use a different style guide, please include a cell with a link.\n",
        "\n",
        "Your code should be relatively easy-to-read, sensibly commented, and clean. Writing code is a messy process, so please be sure to edit your final submission. Remove any cells that are not needed or parts of cells that contain unnecessary code. Remove inessential `import` statements and make sure that all such statements are moved into the designated cell.\n",
        "\n",
        "Make use of non-code cells for written commentary. These cells should be grammatical and clearly written. In some of these cells you will have questions to answer. The questions will be marked by a \"Q:\" and will have a corresponding \"A:\" spot for you. *Make sure to answer every question marked with a `Q:` for full credit.*\n"
      ]
    },
    {
      "cell_type": "code",
      "source": [
        "from google.colab import drive\n",
        "drive.mount('/content/drive')"
      ],
      "metadata": {
        "colab": {
          "base_uri": "https://localhost:8080/"
        },
        "id": "A1n0l0LqIodX",
        "outputId": "2a9abcef-2b3b-4dcc-d38b-b720c6243c06"
      },
      "id": "A1n0l0LqIodX",
      "execution_count": 72,
      "outputs": [
        {
          "output_type": "stream",
          "name": "stdout",
          "text": [
            "Drive already mounted at /content/drive; to attempt to forcibly remount, call drive.mount(\"/content/drive\", force_remount=True).\n"
          ]
        }
      ]
    },
    {
      "cell_type": "code",
      "source": [
        "# ! pip install emoji\n",
        "# ! pip install nltk\n",
        "\n",
        "import nltk\n",
        "nltk.download('stopwords')"
      ],
      "metadata": {
        "colab": {
          "base_uri": "https://localhost:8080/"
        },
        "id": "2D92yM1PuQm_",
        "outputId": "5177e18c-bd11-489e-e57c-e94986454450"
      },
      "id": "2D92yM1PuQm_",
      "execution_count": 73,
      "outputs": [
        {
          "output_type": "stream",
          "name": "stderr",
          "text": [
            "[nltk_data] Downloading package stopwords to /root/nltk_data...\n",
            "[nltk_data]   Package stopwords is already up-to-date!\n"
          ]
        },
        {
          "output_type": "execute_result",
          "data": {
            "text/plain": [
              "True"
            ]
          },
          "metadata": {},
          "execution_count": 73
        }
      ]
    },
    {
      "cell_type": "code",
      "execution_count": 74,
      "id": "e2d096b7",
      "metadata": {
        "id": "e2d096b7"
      },
      "outputs": [],
      "source": [
        "import os\n",
        "import re\n",
        "import emoji\n",
        "import pandas as pd\n",
        "import numpy as np\n",
        "\n",
        "from collections import Counter, defaultdict\n",
        "from nltk.corpus import stopwords\n",
        "from string import punctuation\n",
        "\n",
        "sw = stopwords.words(\"english\")"
      ]
    },
    {
      "cell_type": "code",
      "execution_count": 75,
      "id": "6b555ab2",
      "metadata": {
        "id": "6b555ab2"
      },
      "outputs": [],
      "source": [
        "# Add any additional import statements you need here\n",
        "import string\n",
        "import matplotlib.pyplot as plt\n"
      ]
    },
    {
      "cell_type": "code",
      "execution_count": 76,
      "id": "923b5a86",
      "metadata": {
        "id": "923b5a86"
      },
      "outputs": [],
      "source": [
        "# change `data_location` to the location of the folder on your machine.\n",
        "data_location = \"/content/drive/MyDrive/M1 Results\"\n",
        "\n",
        "# These subfolders should still work if you correctly stored the\n",
        "# data from the Module 1 assignment\n",
        "twitter_folder = \"twitter/\"\n",
        "lyrics_folder = \"lyrics/\""
      ]
    },
    {
      "cell_type": "code",
      "source": [
        "def descriptive_stats(tokens, num_tokens=5, verbose=True):\n",
        "    \"\"\"\n",
        "    Given a list of tokens, print number of tokens, number of unique tokens,\n",
        "    number of characters, lexical diversity (https://en.wikipedia.org/wiki/Lexical_diversity),\n",
        "    and num_tokens most common tokens. Return a list with the number of tokens, number\n",
        "    of unique tokens, lexical diversity, and number of characters.\n",
        "    \"\"\"\n",
        "\n",
        "    # Calculate the required statistics\n",
        "    num_tokens = len(tokens)\n",
        "    num_unique_tokens = len(set(tokens))\n",
        "    num_characters = sum(len(token) for token in tokens)\n",
        "    lexical_diversity = num_unique_tokens / num_tokens if num_tokens > 0 else 0.0\n",
        "\n",
        "    # Count the most common tokens\n",
        "    token_counts = Counter(tokens)\n",
        "    most_common_tokens = token_counts.most_common(num_tokens)\n",
        "\n",
        "    if verbose:\n",
        "        print(f\"There are {num_tokens} tokens in the data.\")\n",
        "        print(f\"There are {num_unique_tokens} unique tokens in the data.\")\n",
        "        print(f\"There are {num_characters} characters in the data.\")\n",
        "        print(f\"The lexical diversity is {lexical_diversity:.3f} in the data.\")\n",
        "\n",
        "        # Print the five most common tokens\n",
        "        print(\"The most common tokens are:\")\n",
        "        for token, count in most_common_tokens:\n",
        "            print(f\"{token}: {count}\")\n",
        "\n",
        "    return [num_tokens, num_unique_tokens, lexical_diversity, num_characters]"
      ],
      "metadata": {
        "id": "QZnySQpoUJx4"
      },
      "id": "QZnySQpoUJx4",
      "execution_count": 77,
      "outputs": []
    },
    {
      "cell_type": "code",
      "execution_count": 78,
      "id": "59dcf058",
      "metadata": {
        "colab": {
          "base_uri": "https://localhost:8080/"
        },
        "id": "59dcf058",
        "outputId": "e2a34855-aeb3-48b1-ebc4-9d326c44aafb"
      },
      "outputs": [
        {
          "output_type": "stream",
          "name": "stdout",
          "text": [
            "There are 13 tokens in the data.\n",
            "There are 9 unique tokens in the data.\n",
            "There are 55 characters in the data.\n",
            "The lexical diversity is 0.692 in the data.\n",
            "The most common tokens are:\n",
            "text: 3\n",
            "here: 2\n",
            "example: 2\n",
            "is: 1\n",
            "some: 1\n",
            "with: 1\n",
            "other: 1\n",
            "in: 1\n",
            "this: 1\n"
          ]
        }
      ],
      "source": [
        "text = \"\"\"here is some example text with other example text here in this text\"\"\".split()\n",
        "assert(descriptive_stats(text, verbose=True)[0] == 13)\n",
        "assert(descriptive_stats(text, verbose=False)[1] == 9)\n",
        "assert(abs(descriptive_stats(text, verbose=False)[2] - 0.69) < 0.02)\n",
        "assert(descriptive_stats(text, verbose=False)[3] == 55)\n"
      ]
    },
    {
      "cell_type": "markdown",
      "id": "d2e7e1a2",
      "metadata": {
        "id": "d2e7e1a2"
      },
      "source": [
        "Q: Why is it beneficial to use assertion statements in your code?\n",
        "\n",
        "A: Assertion statements are useful for catching errors early by verifying that specific conditions hold true during code execution. They improve debugging by pinpointing where issues occur and serve as automatic checks to ensure the correctness of code. Assertions also help document assumptions in the code and can be disabled in production to maintain performance, making them an efficient tool for maintaining code quality."
      ]
    },
    {
      "cell_type": "markdown",
      "id": "9d3bf93e",
      "metadata": {
        "id": "9d3bf93e"
      },
      "source": [
        "## Data Input\n",
        "\n",
        "Now read in each of the corpora. For the lyrics data, it may be convenient to store the entire contents of the file to make it easier to inspect the titles individually, as you'll do in the last part of the assignment. In the solution, I stored the lyrics data in a dictionary with two dimensions of keys: artist and song. The value was the file contents. A data frame would work equally well.\n",
        "\n",
        "For the Twitter data, we only need the description field for this assignment. Feel free all the descriptions read it into a data structure. In the solution, I stored the descriptions as a dictionary of lists, with the key being the artist.\n",
        "\n",
        "\n"
      ]
    },
    {
      "cell_type": "code",
      "source": [
        "# Read in the lyrics data\n",
        "\n",
        "# Path to the folder containing Lyrics Data\n",
        "lyrics_folder_path = '/content/drive/MyDrive/M1 Results/lyrics'\n",
        "lyrics_data = {}\n",
        "\n",
        "# Iterate through each artist's folder in the main lyrics folder\n",
        "for artist in os.listdir(lyrics_folder_path):\n",
        "    artist_folder_path = os.path.join(lyrics_folder_path, artist)\n",
        "\n",
        "    if os.path.isdir(artist_folder_path):\n",
        "        lyrics_data[artist] = {}\n",
        "\n",
        "        # Iterate through each song file in the artist's folder\n",
        "        for song_file in os.listdir(artist_folder_path):\n",
        "            song_path = os.path.join(artist_folder_path, song_file)\n",
        "\n",
        "            if os.path.isfile(song_path) and song_file.endswith('.txt'):\n",
        "                # Extract song title from the filename (remove .txt extension)\n",
        "                song_title = song_file[:-4]\n",
        "\n",
        "                # Read the lyrics within the with block\n",
        "                with open(song_path, 'r') as file:\n",
        "                    lyrics_data[artist][song_title] = file.read()\n",
        "\n",
        "# Test: Inspecting the lyrics for a specific artist and song\n",
        "artist_name = 'cher'\n",
        "song_title = 'cher_loveonarooftop'\n",
        "\n",
        "# Checking for the existence of the lyrics\n",
        "if artist_name in lyrics_data and song_title in lyrics_data[artist_name]:\n",
        "    print(lyrics_data[artist_name][song_title])\n",
        "else:\n",
        "    print(f\"Lyrics for '{song_title}' by '{artist_name}' not found.\")\n"
      ],
      "metadata": {
        "colab": {
          "base_uri": "https://localhost:8080/"
        },
        "id": "0A7wCtZnXVXW",
        "outputId": "28fa1592-007b-4b13-b90d-855f64cc6614"
      },
      "id": "0A7wCtZnXVXW",
      "execution_count": 79,
      "outputs": [
        {
          "output_type": "stream",
          "name": "stdout",
          "text": [
            "\"Love On A Rooftop\"\n",
            "\n",
            "\n",
            "\n",
            "We used to talk forever on a dime\n",
            "Now we live together never find the time\n",
            "We used to walk as lovers on the sand\n",
            "Now we're workin' full-time on our lifetime plan\n",
            "\n",
            "We never stopped to see the moon at night\n",
            "We're just too busy leadin' complicated lives\n",
            "\n",
            "I remember love on a rooftop\n",
            "We couldn't make the love stop\n",
            "We were givin' all that we got\n",
            "\n",
            "I remember holdin' you so tight\n",
            "When kissin' lasted all night\n",
            "Love on a rooftop\n",
            "\n",
            "Look at us now, we're all grown up\n",
            "We got it all together, got it all sewn up\n",
            "But is this all it all was leadin' to\n",
            "Do we just run out of dreams when all our dreams come true\n",
            "\n",
            "Whatever happened to those endless nights\n",
            "When we were happy livin' young and foolish lives\n",
            "\n",
            "I remember love on a rooftop\n",
            "We couldn't make the love stop\n",
            "We were givin' all that we got\n",
            "\n",
            "I remember holdin' you so tight\n",
            "When kissin' lasted all night\n",
            "Love on a rooftop\n",
            "\n",
            "We never stopped to see the moon at night\n",
            "We're just too busy leadin' complicated lives\n",
            "\n",
            "I remember love on a rooftop\n",
            "We couldn't make the love stop\n",
            "We were givin' all that we got\n",
            "\n",
            "I remember holdin' you so tight\n",
            "When kissin' lasted all night\n",
            "Love on a rooftop\n",
            "\n",
            "I remember love on a rooftop\n",
            "We couldn't make the love stop\n",
            "We were givin' all that we got\n",
            "\n"
          ]
        }
      ]
    },
    {
      "cell_type": "code",
      "source": [
        "# Convert the lyrics_data dictionary to a DataFrame\n",
        "lyrics_list = []\n",
        "\n",
        "for artist, songs in lyrics_data.items():\n",
        "    for song_title, lyrics in songs.items():\n",
        "        lyrics_list.append({'Artist': artist, 'Song Title': song_title, 'Lyrics': lyrics})\n",
        "\n",
        "lyrics_df = pd.DataFrame(lyrics_list)\n",
        "\n",
        "# Display the DataFrame\n",
        "print(lyrics_df.head())\n",
        "print(lyrics_df.tail())"
      ],
      "metadata": {
        "colab": {
          "base_uri": "https://localhost:8080/"
        },
        "id": "m8cDUt0WYfri",
        "outputId": "70608cbb-002e-4d5a-848d-02919c9ca9d6"
      },
      "id": "m8cDUt0WYfri",
      "execution_count": 80,
      "outputs": [
        {
          "output_type": "stream",
          "name": "stdout",
          "text": [
            "  Artist                   Song Title  \\\n",
            "0   cher  cher_youvemademesoveryhappy   \n",
            "1   cher      cher_stillinlovewithyou   \n",
            "2   cher                  cher_pirate   \n",
            "3   cher                cher_darklady   \n",
            "4   cher            cher_disastercake   \n",
            "\n",
            "                                              Lyrics  \n",
            "0  \"You've Made Me So Very Happy\"\\n\\n\\n\\nI've los...  \n",
            "1  \"Still In Love With You\"\\n\\n\\n\\nVisions haunt ...  \n",
            "2  \"Pirate\"\\n\\n\\n\\nHe'll sail on with the summer ...  \n",
            "3  \"Dark Lady\"\\n\\n\\n\\nThe fortune queen of New Or...  \n",
            "4  \"Disaster Cake\"\\n\\n\\n\\nIf you're gonna make an...  \n",
            "    Artist              Song Title  \\\n",
            "415  robyn          robyn_herewego   \n",
            "416  robyn    robyn_notontheinside   \n",
            "417  robyn  robyn_everylittlething   \n",
            "418  robyn          robyn_robotboy   \n",
            "419  robyn     robyn_tomteverkstan   \n",
            "\n",
            "                                                Lyrics  \n",
            "415  \"Here We Go\"\\n\\n\\n\\nI couldn't wait another mi...  \n",
            "416  \"Not On The Inside\"\\n\\n\\n\\nIsn't funny how som...  \n",
            "417  \"Every Little Thing\"\\n\\n\\n\\nBeen alone in here...  \n",
            "418  \"Robotboy\"\\n\\n\\n\\nHey now boy, where you been?...  \n",
            "419  \"Tomteverkstan\"\\n\\n\\n\\nMmmm... no I don't like...  \n"
          ]
        }
      ]
    },
    {
      "cell_type": "code",
      "execution_count": 81,
      "id": "debcac5a",
      "metadata": {
        "colab": {
          "base_uri": "https://localhost:8080/"
        },
        "id": "debcac5a",
        "outputId": "eb4e493a-8b02-4bc7-95f5-c28869fac77a"
      },
      "outputs": [
        {
          "output_type": "stream",
          "name": "stdout",
          "text": [
            "  Artist                                        Description\n",
            "0   cher  screen_name\\tname\\tid\\tlocation\\tfollowers_cou...\n",
            "1   cher       hsmcnp\\tCountry Girl\\t35152213\\t\\t1302\\t1014\n",
            "2   cher  horrormomy\\tJeny\\t742153090850164742\\tEarth\\t8...\n",
            "3   cher  anju79990584\\tanju\\t1496463006451974150\\t\\t13\\...\n",
            "4   cher       gallionjenna\\tJ\\t3366479914\\t\\t752\\t556\\tcsu\n",
            "        Artist                                        Description\n",
            "4353172  robyn  jakegiles\\tJake Giles\\t19725102\\tLA\\t7690\\t216...\n",
            "4353173  robyn  axelbluhme\\tAxel Bluhme\\t19573759\\tDK\\t238\\t15...\n",
            "4353174  robyn  RayRayRay27\\tRachael :)\\t19919217\\tOldham\\t762...\n",
            "4353175  robyn  bhandberg\\tBen Handberg\\t12642462\\tSydney\\t432...\n",
            "4353176  robyn  takemeback\\tChristine\\t15022058\\tNew Jersey\\t1...\n"
          ]
        }
      ],
      "source": [
        "# Read in the twitter data\n",
        "twitter_folder_path = '/content/drive/MyDrive/M1 Results/twitter'\n",
        "\n",
        "twitter_data = {}\n",
        "\n",
        "# List of files for each artist\n",
        "artist_files = {\n",
        "    'cher': 'cher_followers_data.txt',\n",
        "    'robyn': 'robynkonichiwa_followers_data.txt'\n",
        "}\n",
        "\n",
        "# Loop through the files for each artist and read descriptions\n",
        "for artist, file_name in artist_files.items():\n",
        "    file_path = os.path.join(twitter_folder_path, file_name)\n",
        "\n",
        "    if os.path.isfile(file_path):\n",
        "        with open(file_path, 'r') as file:\n",
        "            descriptions = file.readlines()\n",
        "            twitter_data[artist] = [desc.strip() for desc in descriptions]\n",
        "\n",
        "# Convert Twitter data to DataFrame for easier inspection\n",
        "twitter_df = pd.DataFrame([\n",
        "    {'Artist': artist, 'Description': description}\n",
        "    for artist, descriptions in twitter_data.items()\n",
        "    for description in descriptions\n",
        "])\n",
        "\n",
        "\n",
        "# Display the DataFrame\n",
        "print(twitter_df.head())\n",
        "print(twitter_df.tail())"
      ]
    },
    {
      "cell_type": "markdown",
      "id": "6a5f3b12",
      "metadata": {
        "id": "6a5f3b12"
      },
      "source": [
        "## Data Cleaning\n",
        "\n",
        "Now clean and tokenize your data. Remove punctuation chacters (available in the `punctuation` object in the `string` library), split on whitespace, fold to lowercase, and remove stopwords. Store your cleaned data, which must be accessible as an interable for `descriptive_stats`, in new objects or in new columns in your data frame.\n",
        "\n"
      ]
    },
    {
      "cell_type": "code",
      "execution_count": 82,
      "id": "71c73d86",
      "metadata": {
        "id": "71c73d86"
      },
      "outputs": [],
      "source": [
        "# Punctuation object from string library\n",
        "punctuation = set(string.punctuation)\n",
        "\n",
        "# Stopwords set\n",
        "stop_words = set(stopwords.words('english'))\n",
        "\n",
        "# Define the pipeline\n",
        "pipeline = [\n",
        "    lambda text: ''.join(char for char in text if char not in punctuation),  # Remove punctuation\n",
        "    str.lower,  # Convert to lowercase\n",
        "    lambda text: text.split(),  # Split into tokens\n",
        "    lambda tokens: [token for token in tokens if token not in stop_words]  # Remove stopwords\n",
        "]\n"
      ]
    },
    {
      "cell_type": "code",
      "source": [
        "# Apply the pipeline to the 'Lyrics' column - Lyrics Data\n",
        "lyrics_df['Cleaned_Lyrics'] = lyrics_df['Lyrics'].apply(lambda x: pipeline[-1](pipeline[-2](pipeline[-3](pipeline[0](x)))))\n",
        "\n",
        "# Check the result\n",
        "print(lyrics_df[['Artist', 'Cleaned_Lyrics']])"
      ],
      "metadata": {
        "colab": {
          "base_uri": "https://localhost:8080/"
        },
        "id": "VmrIOG1t1xtV",
        "outputId": "377e5644-0b96-45ea-c869-f2eef728b0d1"
      },
      "id": "VmrIOG1t1xtV",
      "execution_count": 83,
      "outputs": [
        {
          "output_type": "stream",
          "name": "stdout",
          "text": [
            "    Artist                                     Cleaned_Lyrics\n",
            "0     cher  [youve, made, happy, ive, lost, love, got, mad...\n",
            "1     cher  [still, love, visions, haunt, memory, hold, ho...\n",
            "2     cher  [pirate, hell, sail, summer, wind, blows, day,...\n",
            "3     cher  [dark, lady, fortune, queen, new, orleans, bru...\n",
            "4     cher  [disaster, cake, youre, gonna, make, omelette,...\n",
            "..     ...                                                ...\n",
            "415  robyn  [go, couldnt, wait, another, minute, cause, ba...\n",
            "416  robyn  [inside, isnt, funny, people, never, practice,...\n",
            "417  robyn  [every, little, thing, alone, forever, waiting...\n",
            "418  robyn  [robotboy, hey, boy, smashed, toy, lost, circu...\n",
            "419  robyn  [tomteverkstan, mmmm, dont, like, one, dont, l...\n",
            "\n",
            "[420 rows x 2 columns]\n"
          ]
        }
      ]
    },
    {
      "cell_type": "code",
      "execution_count": 84,
      "id": "b327033a",
      "metadata": {
        "id": "b327033a",
        "colab": {
          "base_uri": "https://localhost:8080/"
        },
        "outputId": "8d5e11c4-55ed-4e27-956d-09e882d44bd3"
      },
      "outputs": [
        {
          "output_type": "stream",
          "name": "stdout",
          "text": [
            "        Artist                                Cleaned_Description\n",
            "0         cher  [screenname, name, id, location, followerscoun...\n",
            "1         cher      [hsmcnp, country, girl, 35152213, 1302, 1014]\n",
            "2         cher  [horrormomy, jeny, 742153090850164742, earth, ...\n",
            "3         cher  [anju79990584, anju, 1496463006451974150, 13, ...\n",
            "4         cher       [gallionjenna, j, 3366479914, 752, 556, csu]\n",
            "...        ...                                                ...\n",
            "4353172  robyn  [jakegiles, jake, giles, 19725102, la, 7690, 2...\n",
            "4353173  robyn  [axelbluhme, axel, bluhme, 19573759, dk, 238, ...\n",
            "4353174  robyn  [rayrayray27, rachael, 19919217, oldham, 762, ...\n",
            "4353175  robyn  [bhandberg, ben, handberg, 12642462, sydney, 4...\n",
            "4353176  robyn  [takemeback, christine, 15022058, new, jersey,...\n",
            "\n",
            "[4353177 rows x 2 columns]\n"
          ]
        }
      ],
      "source": [
        "# Apply the pipeline to the 'Description' column - Twitter Data\n",
        "twitter_df['Cleaned_Description'] = twitter_df['Description'].apply(\n",
        "    lambda x: pipeline[-1](pipeline[-2](pipeline[-3](pipeline[0](x))))\n",
        ")\n",
        "\n",
        "# Check the result\n",
        "print(twitter_df[['Artist', 'Cleaned_Description']])"
      ]
    },
    {
      "cell_type": "markdown",
      "source": [
        "# Sanity Checks:"
      ],
      "metadata": {
        "id": "uRqWFFAU74JL"
      },
      "id": "uRqWFFAU74JL"
    },
    {
      "cell_type": "markdown",
      "source": [
        "Lyrics Data\n"
      ],
      "metadata": {
        "id": "EYHdmgYc8D6M"
      },
      "id": "EYHdmgYc8D6M"
    },
    {
      "cell_type": "code",
      "source": [
        "# Count total word count for Cher before removing stop words and tokenizing\n",
        "cher_word_count = lyrics_df[lyrics_df['Artist'].str.lower() == 'cher']['Lyrics'].str.split().str.len().sum()\n",
        "\n",
        "# Count total word count for Robyn before removing stop words and tokenizing\n",
        "robyn_word_count = lyrics_df[lyrics_df['Artist'].str.lower() == 'robyn']['Lyrics'].str.split().str.len().sum()\n",
        "\n",
        "# Print the results\n",
        "print(f\"Total word count for Cher: {cher_word_count}\")\n",
        "print(f\"Total word count for Robyn: {robyn_word_count}\")"
      ],
      "metadata": {
        "colab": {
          "base_uri": "https://localhost:8080/"
        },
        "id": "u-0pFgaf4ALK",
        "outputId": "2ed2b2f6-7ea9-427a-f936-dcbcf188c4c3"
      },
      "id": "u-0pFgaf4ALK",
      "execution_count": 85,
      "outputs": [
        {
          "output_type": "stream",
          "name": "stdout",
          "text": [
            "Total word count for Cher: 70097\n",
            "Total word count for Robyn: 29318\n"
          ]
        }
      ]
    },
    {
      "cell_type": "code",
      "source": [
        "# Sum word counts for Cher's cleaned lyrics\n",
        "cher_cleaned_word_count = lyrics_df[lyrics_df['Artist'] == 'cher']['Cleaned_Lyrics'].apply(len).sum()\n",
        "\n",
        "# Sum word counts for Robyn's cleaned lyrics\n",
        "robyn_cleaned_word_count = lyrics_df[lyrics_df['Artist'] == 'robyn']['Cleaned_Lyrics'].apply(len).sum()\n",
        "\n",
        "# Print the results\n",
        "print(f\"Total word count for Cher's cleaned lyrics: {cher_cleaned_word_count}\")\n",
        "print(f\"Total word count for Robyn's cleaned lyrics: {robyn_cleaned_word_count}\")"
      ],
      "metadata": {
        "colab": {
          "base_uri": "https://localhost:8080/"
        },
        "id": "0PsL8sGe4SiN",
        "outputId": "9abd2730-007e-4270-c9b6-6cccc6a1af89"
      },
      "id": "0PsL8sGe4SiN",
      "execution_count": 86,
      "outputs": [
        {
          "output_type": "stream",
          "name": "stdout",
          "text": [
            "Total word count for Cher's cleaned lyrics: 35916\n",
            "Total word count for Robyn's cleaned lyrics: 15227\n"
          ]
        }
      ]
    },
    {
      "cell_type": "markdown",
      "source": [
        "Twitter Data"
      ],
      "metadata": {
        "id": "LcEoS-fi8Go5"
      },
      "id": "LcEoS-fi8Go5"
    },
    {
      "cell_type": "code",
      "source": [
        "# Count total word count for Cher before removing stop words and tokenizing - Twitter\n",
        "cher_word_count = twitter_df[twitter_df['Artist'].str.lower() == 'cher']['Description'].str.split().str.len().sum()\n",
        "\n",
        "# Count total word count for Robyn before removing stop words and tokenizing - Twitter\n",
        "robyn_word_count = twitter_df[twitter_df['Artist'].str.lower() == 'robyn']['Description'].str.split().str.len().sum()\n",
        "\n",
        "# Print the results\n",
        "print(f\"Total word count for Cher: {cher_word_count}\")\n",
        "print(f\"Total word count for Robyn: {robyn_word_count}\")"
      ],
      "metadata": {
        "colab": {
          "base_uri": "https://localhost:8080/"
        },
        "id": "ccd-2rHU8IHb",
        "outputId": "9d4885ca-ae80-44db-e442-a71619606ba8"
      },
      "id": "ccd-2rHU8IHb",
      "execution_count": 87,
      "outputs": [
        {
          "output_type": "stream",
          "name": "stdout",
          "text": [
            "Total word count for Cher: 49693753\n",
            "Total word count for Robyn: 4485480\n"
          ]
        }
      ]
    },
    {
      "cell_type": "code",
      "source": [
        "# Count total word count for Cher in cleaned descriptions\n",
        "cher_word_count = twitter_df[twitter_df['Artist'].str.lower() == 'cher']['Cleaned_Description'].apply(len).sum()\n",
        "\n",
        "# Count total word count for Robyn in cleaned descriptions\n",
        "robyn_word_count = twitter_df[twitter_df['Artist'].str.lower() == 'robyn']['Cleaned_Description'].apply(len).sum()\n",
        "\n",
        "# Print the results\n",
        "print(f\"Total word count for Cher's cleaned descriptions: {cher_word_count}\")\n",
        "print(f\"Total word count for Robyn's cleaned descriptions: {robyn_word_count}\")"
      ],
      "metadata": {
        "colab": {
          "base_uri": "https://localhost:8080/"
        },
        "id": "CofCdu-r8eLe",
        "outputId": "8ce2e332-d235-4496-c73e-8b2e023c19df"
      },
      "id": "CofCdu-r8eLe",
      "execution_count": 88,
      "outputs": [
        {
          "output_type": "stream",
          "name": "stdout",
          "text": [
            "Total word count for Cher's cleaned descriptions: 42404149\n",
            "Total word count for Robyn's cleaned descriptions: 3888265\n"
          ]
        }
      ]
    },
    {
      "cell_type": "markdown",
      "id": "f2dd0179",
      "metadata": {
        "id": "f2dd0179"
      },
      "source": [
        "## Basic Descriptive Statistics\n",
        "\n",
        "Call your `descriptive_stats` function on both your lyrics data and your twitter data and for both artists (four total calls)."
      ]
    },
    {
      "cell_type": "markdown",
      "source": [
        "# Calls to descriptive_stats here"
      ],
      "metadata": {
        "id": "ACxa22_M7QGl"
      },
      "id": "ACxa22_M7QGl"
    },
    {
      "cell_type": "code",
      "source": [
        "# Call descriptive_stats on Lyrics Data\n",
        "def descriptive_stats_all(lyrics_series):\n",
        "    all_tokens = [token for song in lyrics_series for token in song]  # Flatten the list of lists\n",
        "    total_tokens = len(all_tokens)\n",
        "    unique_tokens = len(set(all_tokens))\n",
        "    total_characters = sum(len(token) for token in all_tokens)\n",
        "    lexical_diversity = unique_tokens / total_tokens if total_tokens > 0 else 0\n",
        "\n",
        "    # Frequency distribution\n",
        "    from collections import Counter\n",
        "    most_common_tokens = Counter(all_tokens).most_common(10)\n",
        "\n",
        "    print(f\"There are {total_tokens} tokens in the data.\")\n",
        "    print(f\"There are {unique_tokens} unique tokens in the data.\")\n",
        "    print(f\"There are {total_characters} characters in the data.\")\n",
        "    print(f\"The lexical diversity is {lexical_diversity:.3f} in the data.\")\n",
        "    print(\"The most common tokens are:\")\n",
        "    for token, count in most_common_tokens:\n",
        "        print(f\"{token}: {count}\")"
      ],
      "metadata": {
        "id": "3qjoy6Yw9NPt"
      },
      "id": "3qjoy6Yw9NPt",
      "execution_count": 89,
      "outputs": []
    },
    {
      "cell_type": "code",
      "source": [
        "# Call the function on Cher's cleaned lyrics\n",
        "print(\"Cher's Overall Lyrics Descriptive Stats:\")\n",
        "descriptive_stats_all(lyrics_df[lyrics_df['Artist'] == 'cher']['Cleaned_Lyrics'])\n"
      ],
      "metadata": {
        "colab": {
          "base_uri": "https://localhost:8080/"
        },
        "id": "bJBr37IN50Ja",
        "outputId": "a783972e-e63f-4c8e-9eec-24c3fd201089"
      },
      "id": "bJBr37IN50Ja",
      "execution_count": 90,
      "outputs": [
        {
          "output_type": "stream",
          "name": "stdout",
          "text": [
            "Cher's Overall Lyrics Descriptive Stats:\n",
            "There are 35916 tokens in the data.\n",
            "There are 3703 unique tokens in the data.\n",
            "There are 172634 characters in the data.\n",
            "The lexical diversity is 0.103 in the data.\n",
            "The most common tokens are:\n",
            "love: 1004\n",
            "im: 513\n",
            "know: 486\n",
            "dont: 440\n",
            "youre: 333\n",
            "baby: 319\n",
            "time: 319\n",
            "see: 308\n",
            "oh: 306\n",
            "one: 282\n"
          ]
        }
      ]
    },
    {
      "cell_type": "code",
      "source": [
        "# Call the function on Robyn's cleaned lyrics\n",
        "print(\"Robyn's Overall Lyrics Descriptive Stats:\")\n",
        "descriptive_stats_all(lyrics_df[lyrics_df['Artist'] == 'robyn']['Cleaned_Lyrics'])\n"
      ],
      "metadata": {
        "colab": {
          "base_uri": "https://localhost:8080/"
        },
        "id": "Am9FbHHMkz0p",
        "outputId": "9b8b42cd-ea76-4819-97d5-dde613858a1a"
      },
      "id": "Am9FbHHMkz0p",
      "execution_count": 91,
      "outputs": [
        {
          "output_type": "stream",
          "name": "stdout",
          "text": [
            "Robyn's Overall Lyrics Descriptive Stats:\n",
            "There are 15227 tokens in the data.\n",
            "There are 2156 unique tokens in the data.\n",
            "There are 73787 characters in the data.\n",
            "The lexical diversity is 0.142 in the data.\n",
            "The most common tokens are:\n",
            "know: 308\n",
            "dont: 301\n",
            "im: 299\n",
            "love: 275\n",
            "got: 251\n",
            "like: 232\n",
            "baby: 222\n",
            "youre: 169\n",
            "never: 155\n",
            "dance: 150\n"
          ]
        }
      ]
    },
    {
      "cell_type": "code",
      "source": [
        "# Call descriptive_stats on Cher's Twitter descriptions\n",
        "print(\"Cher's Twitter Description Descriptive Stats:\")\n",
        "descriptive_stats_all(twitter_df[twitter_df['Artist'] == 'cher']['Cleaned_Description'])"
      ],
      "metadata": {
        "colab": {
          "base_uri": "https://localhost:8080/"
        },
        "id": "_zq7H5K2kzsH",
        "outputId": "f0d28636-4699-4246-d8b9-824d35c8fe83"
      },
      "id": "_zq7H5K2kzsH",
      "execution_count": 92,
      "outputs": [
        {
          "output_type": "stream",
          "name": "stdout",
          "text": [
            "Cher's Twitter Description Descriptive Stats:\n",
            "There are 42404149 tokens in the data.\n",
            "There are 10667109 unique tokens in the data.\n",
            "There are 266424726 characters in the data.\n",
            "The lexical diversity is 0.252 in the data.\n",
            "The most common tokens are:\n",
            "0: 334292\n",
            "1: 284601\n",
            "2: 237886\n",
            "love: 221728\n",
            "3: 196690\n",
            "4: 151142\n",
            "im: 141980\n",
            "usa: 140893\n",
            "life: 125699\n",
            "5: 123441\n"
          ]
        }
      ]
    },
    {
      "cell_type": "code",
      "source": [
        "# Call descriptive_stats on Robyn's Twitter descriptions\n",
        "print(\"Robyn's Twitter Description Descriptive Stats:\")\n",
        "descriptive_stats_all(twitter_df[twitter_df['Artist'] == 'robyn']['Cleaned_Description'])"
      ],
      "metadata": {
        "colab": {
          "base_uri": "https://localhost:8080/"
        },
        "id": "gncZnusvkzjL",
        "outputId": "2dca3e8a-9847-4592-88be-02c58e7593a0"
      },
      "id": "gncZnusvkzjL",
      "execution_count": 93,
      "outputs": [
        {
          "output_type": "stream",
          "name": "stdout",
          "text": [
            "Robyn's Twitter Description Descriptive Stats:\n",
            "There are 3888265 tokens in the data.\n",
            "There are 1136751 unique tokens in the data.\n",
            "There are 24106279 characters in the data.\n",
            "The lexical diversity is 0.292 in the data.\n",
            "The most common tokens are:\n",
            "0: 31800\n",
            "1: 24115\n",
            "2: 17675\n",
            "music: 16049\n",
            "3: 14372\n",
            "sweden: 12721\n",
            "love: 12190\n",
            "4: 10628\n",
            "new: 10249\n",
            "stockholm: 9701\n"
          ]
        }
      ]
    },
    {
      "cell_type": "markdown",
      "source": [
        "I wanted to remove the numbers from the Twitter data so that is done here:"
      ],
      "metadata": {
        "id": "7TfOxvro-W9y"
      },
      "id": "7TfOxvro-W9y"
    },
    {
      "cell_type": "code",
      "source": [
        "# Define the pipeline\n",
        "pipeline = [\n",
        "    # Remove punctuation\n",
        "    lambda text: ''.join(char for char in text if char not in punctuation),\n",
        "    # Convert to lowercase\n",
        "    str.lower,\n",
        "    # Split into tokens\n",
        "    lambda text: text.split(),\n",
        "    # Remove numeric tokens and stopwords\n",
        "    lambda tokens: [token for token in tokens if token not in stop_words and not token.isdigit()]\n",
        "]\n",
        "\n",
        "# Apply the pipeline to the 'description' column in the Twitter DataFrame\n",
        "twitter_df['Cleaned_Description'] = twitter_df['Description'].apply(lambda x: pipeline[-1](pipeline[-2](pipeline[-3](pipeline[0](x)))))\n",
        "\n",
        "\n",
        "# Check the result\n",
        "print(twitter_df[['Artist', 'Cleaned_Description']])"
      ],
      "metadata": {
        "colab": {
          "base_uri": "https://localhost:8080/"
        },
        "id": "bBIvl7cw-WDt",
        "outputId": "3c29aafc-5bab-4e57-aeae-f5ed31cf7855"
      },
      "id": "bBIvl7cw-WDt",
      "execution_count": 94,
      "outputs": [
        {
          "output_type": "stream",
          "name": "stdout",
          "text": [
            "        Artist                                Cleaned_Description\n",
            "0         cher  [screenname, name, id, location, followerscoun...\n",
            "1         cher                            [hsmcnp, country, girl]\n",
            "2         cher  [horrormomy, jeny, earth, 𝙿𝚛𝚘𝚞𝚍, 𝚜𝚞𝚙𝚙𝚘𝚛𝚝𝚎𝚛, 𝚘𝚏...\n",
            "3         cher  [anju79990584, anju, 163㎝／愛かっぷ💜26歳🍒, 工〇好きな女の子💓...\n",
            "4         cher                             [gallionjenna, j, csu]\n",
            "...        ...                                                ...\n",
            "4353172  robyn  [jakegiles, jake, giles, la, singer, songs, ty...\n",
            "4353173  robyn  [axelbluhme, axel, bluhme, dk, dadx2, conarch,...\n",
            "4353174  robyn  [rayrayray27, rachael, oldham, year, change, l...\n",
            "4353175  robyn  [bhandberg, ben, handberg, sydney, head, consu...\n",
            "4353176  robyn  [takemeback, christine, new, jersey, stand, ri...\n",
            "\n",
            "[4353177 rows x 2 columns]\n"
          ]
        }
      ]
    },
    {
      "cell_type": "code",
      "source": [
        "# Count total word count for Cher in cleaned descriptions - after removing numbers\n",
        "cher_word_count = twitter_df[twitter_df['Artist'].str.lower() == 'cher']['Cleaned_Description'].apply(len).sum()\n",
        "\n",
        "# Count total word count for Robyn in cleaned descriptions - after removing numbers\n",
        "robyn_word_count = twitter_df[twitter_df['Artist'].str.lower() == 'robyn']['Cleaned_Description'].apply(len).sum()\n",
        "\n",
        "# Print the results\n",
        "print(f\"Total word count for Cher's cleaned descriptions: {cher_word_count}\")\n",
        "print(f\"Total word count for Robyn's cleaned descriptions: {robyn_word_count}\")"
      ],
      "metadata": {
        "colab": {
          "base_uri": "https://localhost:8080/"
        },
        "id": "-p8xaylO-k7b",
        "outputId": "c7fccc17-1391-4f2f-a9a5-7c0bc2a7a58f"
      },
      "id": "-p8xaylO-k7b",
      "execution_count": 95,
      "outputs": [
        {
          "output_type": "stream",
          "name": "stdout",
          "text": [
            "Total word count for Cher's cleaned descriptions: 30052904\n",
            "Total word count for Robyn's cleaned descriptions: 2784554\n"
          ]
        }
      ]
    },
    {
      "cell_type": "code",
      "source": [
        "# Call descriptive_stats on Cher's Twitter descriptions - After removing numbers\n",
        "print(\"Cher's Twitter Description Descriptive Stats:\")\n",
        "descriptive_stats_all(twitter_df[twitter_df['Artist'] == 'cher']['Cleaned_Description'])"
      ],
      "metadata": {
        "colab": {
          "base_uri": "https://localhost:8080/"
        },
        "id": "gSqStTxI_IX5",
        "outputId": "e5bbca02-2ff5-4a91-9404-c50b5994efa0"
      },
      "id": "gSqStTxI_IX5",
      "execution_count": 96,
      "outputs": [
        {
          "output_type": "stream",
          "name": "stdout",
          "text": [
            "Cher's Twitter Description Descriptive Stats:\n",
            "There are 30052904 tokens in the data.\n",
            "There are 6604985 unique tokens in the data.\n",
            "There are 200372525 characters in the data.\n",
            "The lexical diversity is 0.220 in the data.\n",
            "The most common tokens are:\n",
            "love: 221728\n",
            "im: 141980\n",
            "usa: 140893\n",
            "life: 125699\n",
            "new: 106519\n",
            "de: 94402\n",
            "music: 91504\n",
            "ca: 70722\n",
            "follow: 64606\n",
            "lover: 61377\n"
          ]
        }
      ]
    },
    {
      "cell_type": "code",
      "source": [
        "# Call descriptive_stats on Robyn's Twitter descriptions - After removing numbers\n",
        "print(\"Robyn's Twitter Description Descriptive Stats:\")\n",
        "descriptive_stats_all(twitter_df[twitter_df['Artist'] == 'robyn']['Cleaned_Description'])"
      ],
      "metadata": {
        "colab": {
          "base_uri": "https://localhost:8080/"
        },
        "id": "hSB_hF6Z_A4V",
        "outputId": "9dd83162-a862-4fca-c9ae-9a2bbe9cd42c"
      },
      "id": "hSB_hF6Z_A4V",
      "execution_count": 97,
      "outputs": [
        {
          "output_type": "stream",
          "name": "stdout",
          "text": [
            "Robyn's Twitter Description Descriptive Stats:\n",
            "There are 2784554 tokens in the data.\n",
            "There are 762752 unique tokens in the data.\n",
            "There are 18723407 characters in the data.\n",
            "The lexical diversity is 0.274 in the data.\n",
            "The most common tokens are:\n",
            "music: 16049\n",
            "sweden: 12721\n",
            "love: 12190\n",
            "new: 10249\n",
            "stockholm: 9701\n",
            "im: 9285\n",
            "de: 8510\n",
            "london: 8350\n",
            "och: 8005\n",
            "life: 7583\n"
          ]
        }
      ]
    },
    {
      "cell_type": "markdown",
      "id": "46294409",
      "metadata": {
        "id": "46294409"
      },
      "source": [
        "Q: How do you think the \"top 5 words\" would be different if we left stopwords in the data?\n",
        "\n",
        "A: Leaving stopwords in the data would likely result in common words like \"the,\" \"and,\" and \"I\" dominating the top five word counts, overshadowing more meaningful words. This would reduce the focus on significant content and lower the lexical diversity of the text. Overall, including stopwords can make the analysis less informative and shift attention away from the key themes or sentiments expressed.\n",
        "\n",
        "---\n",
        "\n",
        "Q: What were your prior beliefs about the lexical diversity between the artists? Does the difference (or lack thereof) in lexical diversity between the artists conform to your prior beliefs?\n",
        "\n",
        "A: I hadnt really had an opinion about what the lexical diversity would be between the artists but I am seeing that Robyn had a higher value in her lyrics data which indicates that she uses a broader volcabulary and less repetition in word selection in her lyrics.\n"
      ]
    },
    {
      "cell_type": "markdown",
      "id": "4d4e1ac1",
      "metadata": {
        "id": "4d4e1ac1"
      },
      "source": [
        "\n",
        "## Specialty Statistics\n",
        "\n",
        "The descriptive statistics we have calculated are quite generic. You will now calculate a handful of statistics tailored to these data.\n",
        "\n",
        "1. Ten most common emojis by artist in the twitter descriptions.\n",
        "1. Ten most common hashtags by artist in the twitter descriptions.\n",
        "1. Five most common words in song titles by artist.\n",
        "1. For each artist, a histogram of song lengths (in terms of number of tokens)\n",
        "\n",
        "We can use the `emoji` library to help us identify emojis and you have been given a function to help you.\n"
      ]
    },
    {
      "cell_type": "code",
      "execution_count": 98,
      "id": "753a5a3e",
      "metadata": {
        "id": "753a5a3e"
      },
      "outputs": [],
      "source": [
        "assert(emoji.is_emoji(\"❤️\"))\n",
        "assert(not emoji.is_emoji(\":-)\"))"
      ]
    },
    {
      "cell_type": "markdown",
      "id": "986fc4c0",
      "metadata": {
        "id": "986fc4c0"
      },
      "source": [
        "### Emojis 😁\n",
        "\n",
        "What are the ten most common emojis by artist in the twitter descriptions?\n"
      ]
    },
    {
      "cell_type": "code",
      "source": [
        "def extract_emojis(text):\n",
        "    return [char for char in text if char in emoji.EMOJI_DATA]"
      ],
      "metadata": {
        "id": "2Y3uL9jYCHAo"
      },
      "id": "2Y3uL9jYCHAo",
      "execution_count": 99,
      "outputs": []
    },
    {
      "cell_type": "code",
      "execution_count": 100,
      "id": "269cd433",
      "metadata": {
        "id": "269cd433",
        "colab": {
          "base_uri": "https://localhost:8080/"
        },
        "outputId": "71461e94-4700-48e7-8135-571bd7a4c2ab"
      },
      "outputs": [
        {
          "output_type": "stream",
          "name": "stdout",
          "text": [
            "Most Common Emojis:\n",
            "   Artist Emoji  Count\n",
            "0    cher     ❤  94506\n",
            "1    cher     🌈  66291\n",
            "2    cher     ♥  48059\n",
            "3    cher     🏳  47174\n",
            "4    cher     ✨  45846\n",
            "5    cher     🌊  31234\n",
            "6    cher     💙  31050\n",
            "7    cher     🏻  25195\n",
            "8    cher     ✌  21963\n",
            "9    cher     💜  21571\n",
            "10  robyn     🌈   6086\n",
            "11  robyn     ❤   5635\n",
            "12  robyn     🏳   4641\n",
            "13  robyn     ♥   4249\n",
            "14  robyn     ✨   3217\n",
            "15  robyn     🏻   1751\n",
            "16  robyn     ✌   1495\n",
            "17  robyn     ♀   1347\n",
            "18  robyn     🏼   1340\n",
            "19  robyn     💙   1200\n"
          ]
        }
      ],
      "source": [
        "# Initialize lists to store results\n",
        "emoji_list = []\n",
        "\n",
        "# Loop through each artist\n",
        "for artist in twitter_df['Artist'].unique():\n",
        "    artist_data = twitter_df[twitter_df['Artist'] == artist]\n",
        "\n",
        "    # Count emojis\n",
        "    emojis = artist_data['Description'].apply(extract_emojis).explode().dropna()\n",
        "    most_common_emojis = emojis.value_counts().head(10)\n",
        "\n",
        "    # Store results for emojis\n",
        "    for emoji_val, count in most_common_emojis.items():\n",
        "        emoji_list.append({'Artist': artist, 'Emoji': emoji_val, 'Count': count})\n",
        "\n",
        "# Create DataFrames from the lists\n",
        "emoji_counts = pd.DataFrame(emoji_list)\n",
        "\n",
        "# Display results\n",
        "print(\"Most Common Emojis:\")\n",
        "print(emoji_counts)"
      ]
    },
    {
      "cell_type": "markdown",
      "id": "bab9b770",
      "metadata": {
        "id": "bab9b770"
      },
      "source": [
        "### Hashtags\n",
        "\n",
        "What are the ten most common hashtags by artist in the twitter descriptions?\n"
      ]
    },
    {
      "cell_type": "code",
      "execution_count": 101,
      "id": "07c396f1",
      "metadata": {
        "id": "07c396f1",
        "colab": {
          "base_uri": "https://localhost:8080/"
        },
        "outputId": "a8152ba4-f309-42c0-ac22-b16eea71c5d6"
      },
      "outputs": [
        {
          "output_type": "stream",
          "name": "stdout",
          "text": [
            "Most Common Hashtags:\n",
            "   Artist            Hashtag  Count\n",
            "0    cher               #BLM   8388\n",
            "1    cher            #Resist   5095\n",
            "2    cher  #BlackLivesMatter   4414\n",
            "3    cher            #resist   3180\n",
            "4    cher               #FBR   2834\n",
            "5    cher                 #1   2580\n",
            "6    cher  #blacklivesmatter   2551\n",
            "7    cher     #TheResistance   2501\n",
            "8    cher                  #   2205\n",
            "9    cher        #Resistance   1538\n",
            "10  robyn  #BlackLivesMatter    329\n",
            "11  robyn               #BLM    310\n",
            "12  robyn  #blacklivesmatter    213\n",
            "13  robyn                 #1    213\n",
            "14  robyn                  #    175\n",
            "15  robyn             #music    151\n",
            "16  robyn             #Music     94\n",
            "17  robyn               #EDM     79\n",
            "18  robyn               #blm     55\n",
            "19  robyn    #TeamFollowBack     51\n"
          ]
        }
      ],
      "source": [
        "def extract_hashtags(text):\n",
        "    return [word for word in text.split() if word.startswith('#')]\n",
        "\n",
        "# Initialize lists to store results\n",
        "hashtag_list = []\n",
        "\n",
        "# Loop through each artist\n",
        "for artist in twitter_df['Artist'].unique():\n",
        "    artist_data = twitter_df[twitter_df['Artist'] == artist]\n",
        "\n",
        "    # Count hashtags\n",
        "    hashtags = artist_data['Description'].apply(extract_hashtags).explode().dropna()\n",
        "    most_common_hashtags = hashtags.value_counts().head(10)\n",
        "\n",
        "    # Store results for hashtags\n",
        "    for hashtag, count in most_common_hashtags.items():\n",
        "        hashtag_list.append({'Artist': artist, 'Hashtag': hashtag, 'Count': count})\n",
        "\n",
        "# Create DataFrames from the lists\n",
        "hashtag_counts = pd.DataFrame(hashtag_list)\n",
        "\n",
        "# Display results\n",
        "print(\"Most Common Hashtags:\")\n",
        "print(hashtag_counts)"
      ]
    },
    {
      "cell_type": "markdown",
      "id": "d10f21d5",
      "metadata": {
        "id": "d10f21d5"
      },
      "source": [
        "### Song Titles\n",
        "\n",
        "What are the five most common words in song titles by artist? The song titles should be on the first line of the lyrics pages, so if you have kept the raw file contents around, you will not need to re-read the data.\n"
      ]
    },
    {
      "cell_type": "code",
      "execution_count": 102,
      "id": "bb69b36b",
      "metadata": {
        "id": "bb69b36b",
        "colab": {
          "base_uri": "https://localhost:8080/"
        },
        "outputId": "37b15c11-d47c-4e8f-96a9-33f3200e7d23"
      },
      "outputs": [
        {
          "output_type": "stream",
          "name": "stdout",
          "text": [
            "Five Most Common Words in cher's Song Titles:\n",
            "the: 54\n",
            "you: 41\n",
            "love: 38\n",
            "i: 32\n",
            "to: 28\n",
            "\n",
            "Five Most Common Words in robyn's Song Titles:\n",
            "me: 11\n",
            "the: 8\n",
            "you: 8\n",
            "my: 8\n",
            "love: 6\n",
            "\n"
          ]
        }
      ],
      "source": [
        "# Define a function to clean and split titles\n",
        "def clean_and_split_titles(titles):\n",
        "    titles_cleaned = titles.translate(str.maketrans('', '', string.punctuation)).lower()\n",
        "    return titles_cleaned.split()\n",
        "\n",
        "# Initialize a dictionary to store word counts for each artist\n",
        "word_counts = {}\n",
        "\n",
        "# Loop through each artist in the lyrics DataFrame\n",
        "for artist in lyrics_df['Artist'].unique():\n",
        "    artist_lyrics = lyrics_df[lyrics_df['Artist'] == artist]['Lyrics']\n",
        "\n",
        "    # Extract the first line from each lyrics entry and combine into a single string\n",
        "    titles = artist_lyrics.apply(lambda x: x.split('\\n')[0])\n",
        "    words = clean_and_split_titles(' '.join(titles))\n",
        "\n",
        "    # Count occurrences of each word\n",
        "    word_counts[artist] = Counter(words)\n",
        "\n",
        "# Get the five most common words for each artist\n",
        "most_common_words = {artist: counts.most_common(5) for artist, counts in word_counts.items()}\n",
        "\n",
        "# Display results\n",
        "for artist, common_words in most_common_words.items():\n",
        "    print(f\"Five Most Common Words in {artist}'s Song Titles:\")\n",
        "    for word, count in common_words:\n",
        "        print(f\"{word}: {count}\")\n",
        "    print()"
      ]
    },
    {
      "cell_type": "markdown",
      "id": "5dd4fd71",
      "metadata": {
        "id": "5dd4fd71"
      },
      "source": [
        "### Song Lengths\n",
        "\n",
        "For each artist, a histogram of song lengths (in terms of number of tokens). If you put the song lengths in a data frame with an artist column, matplotlib will make the plotting quite easy. An example is given to help you out.\n"
      ]
    },
    {
      "cell_type": "code",
      "source": [
        "# Calculate the number of tokens for each song\n",
        "lyrics_df['Token_Length'] = lyrics_df['Lyrics'].apply(lambda x: len(x.split()))\n",
        "\n",
        "# Create a DataFrame with artist and token lengths\n",
        "lengths_df = pd.DataFrame({\n",
        "    'artist': lyrics_df['Artist'],\n",
        "    'length': lyrics_df['Token_Length']\n",
        "})\n",
        "\n",
        "# Plot histograms of song lengths for each artist\n",
        "plt.figure(figsize=(12, 6))\n",
        "lengths_df.groupby('artist')['length'].plot(kind='hist', density=True, alpha=0.5, legend=True, bins=30)\n",
        "\n",
        "plt.title('Histogram of Song Lengths by Artist')\n",
        "plt.xlabel('Number of Tokens')\n",
        "plt.ylabel('Density')\n",
        "plt.legend(title='Artist')\n",
        "plt.grid(axis='y', alpha=0.75)\n",
        "plt.show()"
      ],
      "metadata": {
        "colab": {
          "base_uri": "https://localhost:8080/",
          "height": 564
        },
        "id": "XcCDOHXBEspQ",
        "outputId": "af3aa9dc-7823-4a47-fd3c-b1c49d3ad915"
      },
      "id": "XcCDOHXBEspQ",
      "execution_count": 103,
      "outputs": [
        {
          "output_type": "display_data",
          "data": {
            "text/plain": [
              "<Figure size 1200x600 with 1 Axes>"
            ],
            "image/png": "[encoded data removed]"
          },
          "metadata": {}
        }
      ]
    },
    {
      "cell_type": "markdown",
      "id": "8fde9ebb",
      "metadata": {
        "id": "8fde9ebb"
      },
      "source": [
        "Since the lyrics may be stored with carriage returns or tabs, it may be useful to have a function that can collapse whitespace, using regular expressions, and be used for splitting.\n",
        "\n",
        "Q: What does the regular expression `'\\s+'` match on?\n",
        "\n",
        "A: The regular expression \\s+ is used to match one or more whitespace characters in a string.\n"
      ]
    },
    {
      "cell_type": "code",
      "execution_count": 104,
      "id": "f0e34516",
      "metadata": {
        "id": "f0e34516"
      },
      "outputs": [],
      "source": [
        "collapse_whitespace = re.compile(r'\\s+')\n",
        "\n",
        "def tokenize_lyrics(lyric) :\n",
        "    \"\"\"strip and split on whitespace\"\"\"\n",
        "    return([item.lower() for item in collapse_whitespace.split(lyric)])"
      ]
    },
    {
      "cell_type": "code",
      "execution_count": 105,
      "id": "2294c440",
      "metadata": {
        "id": "2294c440",
        "colab": {
          "base_uri": "https://localhost:8080/",
          "height": 564
        },
        "outputId": "dc024f3f-586e-4eba-acc2-a0ce0832fecf"
      },
      "outputs": [
        {
          "output_type": "display_data",
          "data": {
            "text/plain": [
              "<Figure size 1000x600 with 1 Axes>"
            ],
            "image/png": "[encoded data removed]"
          },
          "metadata": {}
        }
      ],
      "source": [
        "# Assuming lyrics_df contains the song lyrics\n",
        "lyric_lengths = []\n",
        "\n",
        "# Loop through each artist in the DataFrame\n",
        "for artist in lyrics_df['Artist'].unique():\n",
        "    artist_data = lyrics_df[lyrics_df['Artist'] == artist]\n",
        "\n",
        "    # Calculate the length of each song's lyrics\n",
        "    for index, row in artist_data.iterrows():\n",
        "        length = len(tokenize_lyrics(row['Lyrics']))  # Get the length of tokenized lyrics\n",
        "        lyric_lengths.append({'Artist': artist, 'Length': length})\n",
        "\n",
        "# Create a DataFrame from the collected lengths\n",
        "length_df = pd.DataFrame(lyric_lengths)\n",
        "\n",
        "# Plotting the histogram\n",
        "plt.figure(figsize=(10, 6))\n",
        "length_df.groupby('Artist')['Length'].plot(kind='hist', density=True, alpha=0.5, legend=True, bins=20)\n",
        "plt.title('Distribution of Song Lengths (in Tokens) by Artist')\n",
        "plt.xlabel('Number of Tokens')\n",
        "plt.ylabel('Density')\n",
        "plt.legend(title='Artist')\n",
        "plt.grid()\n",
        "plt.show()"
      ]
    },
    {
      "cell_type": "markdown",
      "source": [
        "# References\n",
        "\n",
        "AZLyrics. “AZLyrics - Song Lyrics from a to Z.” Azlyrics.com, 2019, www.azlyrics.com/.\n",
        "\n",
        "OpenAI. (2024). ChatGPT [Large language model]. https://openai.com/chatgpt"
      ],
      "metadata": {
        "id": "0zsnpVbbG872"
      },
      "id": "0zsnpVbbG872"
    },
    {
      "cell_type": "code",
      "source": [
        "%%capture\n",
        "!apt-get install texlive texlive-xetex texlive-fonts-recommended texlive-latex-extra\n",
        "\n",
        "!pip install pypandoc"
      ],
      "metadata": {
        "id": "I-809ozzHEQm"
      },
      "id": "I-809ozzHEQm",
      "execution_count": 106,
      "outputs": []
    },
    {
      "cell_type": "code",
      "source": [
        "%%capture\n",
        "!jupyter nbconvert --to pdf '/content/drive/MyDrive/KM_Lyrics_Description_EDA.ipynb'"
      ],
      "metadata": {
        "id": "4-OAmx7QHHN2"
      },
      "id": "4-OAmx7QHHN2",
      "execution_count": 109,
      "outputs": []
    }
  ],
  "metadata": {
    "kernelspec": {
      "display_name": "Python 3",
      "name": "python3"
    },
    "language_info": {
      "codemirror_mode": {
        "name": "ipython",
        "version": 3
      },
      "file_extension": ".py",
      "mimetype": "text/x-python",
      "name": "python",
      "nbconvert_exporter": "python",
      "pygments_lexer": "ipython3",
      "version": "3.8.8"
    },
    "colab": {
      "provenance": []
    }
  },
  "nbformat": 4,
  "nbformat_minor": 5
}